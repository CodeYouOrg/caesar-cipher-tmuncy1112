{
 "cells": [
  {
   "cell_type": "code",
   "execution_count": 14,
   "metadata": {},
   "outputs": [
    {
     "data": {
      "text/plain": [
       "'Ymnx Nx F Yjxy'"
      ]
     },
     "execution_count": 14,
     "metadata": {},
     "output_type": "execute_result"
    }
   ],
   "source": [
    "def secret_text(txt, key):\n",
    "   def cipher(i, low=range(97,123), upper=range(65,91)):\n",
    "     if i in low or i in upper:\n",
    "       #uppercase and lowercase \n",
    "       s = 65 if i in upper else 97\n",
    "       i = (i - s + 5) % 26 + s\n",
    "     return chr(i)\n",
    "   return ''.join([cipher(ord(s)) for s in txt])\n",
    "\n",
    "\n",
    "secret_text('This Is A Test', 5)\n",
    "\n"
   ]
  }
 ],
 "metadata": {
  "kernelspec": {
   "display_name": "Python 3",
   "language": "python",
   "name": "python3"
  },
  "language_info": {
   "codemirror_mode": {
    "name": "ipython",
    "version": 3
   },
   "file_extension": ".py",
   "mimetype": "text/x-python",
   "name": "python",
   "nbconvert_exporter": "python",
   "pygments_lexer": "ipython3",
   "version": "3.12.4"
  }
 },
 "nbformat": 4,
 "nbformat_minor": 2
}
